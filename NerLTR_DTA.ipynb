{
  "nbformat": 4,
  "nbformat_minor": 0,
  "metadata": {
    "colab": {
      "name": "NerLTR-DTA.ipynb",
      "provenance": [],
      "authorship_tag": "ABX9TyNIxVoaXYbayiv7foKgXGR1",
      "include_colab_link": true
    },
    "kernelspec": {
      "name": "python3",
      "display_name": "Python 3"
    },
    "language_info": {
      "name": "python"
    }
  },
  "cells": [
    {
      "cell_type": "markdown",
      "metadata": {
        "id": "view-in-github",
        "colab_type": "text"
      },
      "source": [
        "<a href=\"https://colab.research.google.com/github/Li-Hongmin/NerLTR-DTA/blob/main/NerLTR_DTA.ipynb\" target=\"_parent\"><img src=\"https://colab.research.google.com/assets/colab-badge.svg\" alt=\"Open In Colab\"/></a>"
      ]
    },
    {
      "cell_type": "code",
      "execution_count": 1,
      "metadata": {
        "colab": {
          "base_uri": "https://localhost:8080/"
        },
        "id": "Elt4iJgNsuYU",
        "outputId": "6df3a52c-729e-427b-fbd1-4cdc1354e916"
      },
      "outputs": [
        {
          "output_type": "stream",
          "name": "stdout",
          "text": [
            "Cloning into 'NerLTR-DTA'...\n",
            "remote: Enumerating objects: 75, done.\u001b[K\n",
            "remote: Counting objects: 100% (75/75), done.\u001b[K\n",
            "remote: Compressing objects: 100% (74/74), done.\u001b[K\n",
            "remote: Total 75 (delta 16), reused 0 (delta 0), pack-reused 0\u001b[K\n",
            "Unpacking objects: 100% (75/75), done.\n"
          ]
        }
      ],
      "source": [
        "!git clone https://github.com/Li-Hongmin/NerLTR-DTA.git"
      ]
    },
    {
      "cell_type": "code",
      "source": [
        "%cd \"NerLTR-DTA/NerLTR-DTA\""
      ],
      "metadata": {
        "colab": {
          "base_uri": "https://localhost:8080/"
        },
        "id": "0w9p3HI1s_gU",
        "outputId": "2c2fddf0-a2fa-4f23-916c-1a3d137dfe80"
      },
      "execution_count": 7,
      "outputs": [
        {
          "output_type": "stream",
          "name": "stdout",
          "text": [
            "/content/NerLTR-DTA/NerLTR-DTA\n"
          ]
        }
      ]
    },
    {
      "cell_type": "code",
      "source": [
        "%cd \"data\""
      ],
      "metadata": {
        "colab": {
          "base_uri": "https://localhost:8080/"
        },
        "id": "SgVjyxafve9j",
        "outputId": "a36a733e-ff05-4605-d36a-d907cf5d3ad2"
      },
      "execution_count": 8,
      "outputs": [
        {
          "output_type": "stream",
          "name": "stdout",
          "text": [
            "/content/NerLTR-DTA/NerLTR-DTA/data\n"
          ]
        }
      ]
    },
    {
      "cell_type": "code",
      "source": [
        "%cd \"KIBA\""
      ],
      "metadata": {
        "colab": {
          "base_uri": "https://localhost:8080/"
        },
        "id": "mqzMnPWEvoaF",
        "outputId": "7efb3c88-da3a-44c1-a0f7-049c95ef3188"
      },
      "execution_count": 9,
      "outputs": [
        {
          "output_type": "stream",
          "name": "stdout",
          "text": [
            "/content/NerLTR-DTA/NerLTR-DTA/data/KIBA\n"
          ]
        }
      ]
    },
    {
      "cell_type": "code",
      "source": [
        "import numpy as np\n",
        "import pandas as pd\n",
        "import linecache\n"
      ],
      "metadata": {
        "id": "-ti9NxZGtuW4"
      },
      "execution_count": 10,
      "outputs": []
    },
    {
      "cell_type": "code",
      "source": [
        "a = np.loadtxt(\"kiba_drug_sim.txt\")\n",
        "each_row_1 = np.mean(a,axis=1)\n",
        "each_row_median = np.median(a, axis=1)\n",
        "each_row_quantile_75 = np.percentile(a, 75, axis=1)\n",
        "each_row_quantile_85 = np.percentile(a, 85, axis=1)\n",
        "each_row_quantile_95 = np.percentile(a, 95, axis=1)\n",
        "np.savetxt(\"quantile\\drug_eachrow_avg_sim.txt\", each_row_1,fmt='%.3f',delimiter=' ')\n",
        "np.savetxt(\"quantile\\drug_eachrow_median.txt\", each_row_median,fmt='%.3f',delimiter=' ')\n",
        "np.savetxt(\"quantile\\protein_eachrow_quantile_75.txt\", each_row_quantile_75,fmt='%.4f',delimiter=' ')\n",
        "np.savetxt(\"quantile\\drug_eachrow_quantile_85.txt\", each_row_quantile_85,fmt='%.3f',delimiter=' ')\n",
        "np.savetxt(\"quantile\\drug_eachrow_quantile_95.txt\", each_row_quantile_95,fmt='%.3f',delimiter=' ')\n"
      ],
      "metadata": {
        "id": "qra3Q22av3jh"
      },
      "execution_count": 11,
      "outputs": []
    },
    {
      "cell_type": "code",
      "source": [
        "\n",
        "#ASAF-mean\n",
        "with open('kiba_binding_affinity_v2.txt','r') as f, open('quantile/Affi_DT_avg.txt','w') as f1, open('quantile/Affi_DT_fre.txt','w') as f2:\n",
        "    lines = f.readlines()\n",
        "    for i in lines:\n",
        "        j = i.split(\" \")\n",
        "        counter = 0\n",
        "        avg = 0\n",
        "        for i,p in enumerate(j):\n",
        "            m = float(p)\n",
        "            #print(m)\n",
        "            if m > -1.0:                \n",
        "                counter += 1 \n",
        "                avg += m\n",
        "                #f1.write(str(i)+' ')\n",
        "                #q = i\n",
        "        f1.write(str(avg/229)+' ')\n",
        "        f1.write('\\n')\n",
        "        f2.write(str(avg/counter)+' ')\n",
        "        f2.write('\\n')\n",
        "\n"
      ],
      "metadata": {
        "colab": {
          "base_uri": "https://localhost:8080/",
          "height": 253
        },
        "id": "SzjUoOKqv5N3",
        "outputId": "f0c9ca95-ebce-4373-bcff-db36cfa05756"
      },
      "execution_count": 13,
      "outputs": [
        {
          "output_type": "error",
          "ename": "FileNotFoundError",
          "evalue": "ignored",
          "traceback": [
            "\u001b[0;31m---------------------------------------------------------------------------\u001b[0m",
            "\u001b[0;31mFileNotFoundError\u001b[0m                         Traceback (most recent call last)",
            "\u001b[0;32m<ipython-input-13-e25c105294c3>\u001b[0m in \u001b[0;36m<module>\u001b[0;34m()\u001b[0m\n\u001b[1;32m      1\u001b[0m \u001b[0;34m\u001b[0m\u001b[0m\n\u001b[1;32m      2\u001b[0m \u001b[0;31m#ASAF-mean\u001b[0m\u001b[0;34m\u001b[0m\u001b[0;34m\u001b[0m\u001b[0;34m\u001b[0m\u001b[0m\n\u001b[0;32m----> 3\u001b[0;31m \u001b[0;32mwith\u001b[0m \u001b[0mopen\u001b[0m\u001b[0;34m(\u001b[0m\u001b[0;34m'kiba_binding_affinity_v2.txt'\u001b[0m\u001b[0;34m,\u001b[0m\u001b[0;34m'r'\u001b[0m\u001b[0;34m)\u001b[0m \u001b[0;32mas\u001b[0m \u001b[0mf\u001b[0m\u001b[0;34m,\u001b[0m \u001b[0mopen\u001b[0m\u001b[0;34m(\u001b[0m\u001b[0;34m'quantile/Affi_DT_avg.txt'\u001b[0m\u001b[0;34m,\u001b[0m\u001b[0;34m'w'\u001b[0m\u001b[0;34m)\u001b[0m \u001b[0;32mas\u001b[0m \u001b[0mf1\u001b[0m\u001b[0;34m,\u001b[0m \u001b[0mopen\u001b[0m\u001b[0;34m(\u001b[0m\u001b[0;34m'quantile/Affi_DT_fre.txt'\u001b[0m\u001b[0;34m,\u001b[0m\u001b[0;34m'w'\u001b[0m\u001b[0;34m)\u001b[0m \u001b[0;32mas\u001b[0m \u001b[0mf2\u001b[0m\u001b[0;34m:\u001b[0m\u001b[0;34m\u001b[0m\u001b[0;34m\u001b[0m\u001b[0m\n\u001b[0m\u001b[1;32m      4\u001b[0m     \u001b[0mlines\u001b[0m \u001b[0;34m=\u001b[0m \u001b[0mf\u001b[0m\u001b[0;34m.\u001b[0m\u001b[0mreadlines\u001b[0m\u001b[0;34m(\u001b[0m\u001b[0;34m)\u001b[0m\u001b[0;34m\u001b[0m\u001b[0;34m\u001b[0m\u001b[0m\n\u001b[1;32m      5\u001b[0m     \u001b[0;32mfor\u001b[0m \u001b[0mi\u001b[0m \u001b[0;32min\u001b[0m \u001b[0mlines\u001b[0m\u001b[0;34m:\u001b[0m\u001b[0;34m\u001b[0m\u001b[0;34m\u001b[0m\u001b[0m\n",
            "\u001b[0;31mFileNotFoundError\u001b[0m: [Errno 2] No such file or directory: 'quantile/Affi_DT_avg.txt'"
          ]
        }
      ]
    },
    {
      "cell_type": "code",
      "source": [
        ""
      ],
      "metadata": {
        "id": "3UKsEACDwqLB"
      },
      "execution_count": null,
      "outputs": []
    }
  ]
}